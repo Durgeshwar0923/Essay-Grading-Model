{
  "nbformat": 4,
  "nbformat_minor": 0,
  "metadata": {
    "colab": {
      "provenance": [],
      "gpuType": "T4"
    },
    "kernelspec": {
      "name": "python3",
      "display_name": "Python 3"
    },
    "language_info": {
      "name": "python"
    }
  },
  "cells": [
    {
      "cell_type": "code",
      "execution_count": 1,
      "metadata": {
        "id": "QOIh5B9zwh38"
      },
      "outputs": [],
      "source": [
        "import pandas as pd\n",
        "# Load the dataset\n",
        "data = pd.read_csv('essay1.csv')"
      ]
    },
    {
      "cell_type": "code",
      "source": [
        "from sklearn.feature_extraction.text import CountVectorizer\n",
        "\n",
        "# Tokenization\n",
        "vectorizer = CountVectorizer()\n",
        "X = vectorizer.fit_transform(data['essay'])\n",
        "\n",
        "# Target labels\n",
        "y = data['grade']"
      ],
      "metadata": {
        "id": "w5vJmYuiwmk6"
      },
      "execution_count": 2,
      "outputs": []
    },
    {
      "cell_type": "code",
      "source": [
        "!pip install xgboost"
      ],
      "metadata": {
        "colab": {
          "base_uri": "https://localhost:8080/"
        },
        "id": "PJ0O2bCd4Ie1",
        "outputId": "6193626b-5cf6-4540-8e32-1b2531b2e37a"
      },
      "execution_count": 3,
      "outputs": [
        {
          "output_type": "stream",
          "name": "stdout",
          "text": [
            "Requirement already satisfied: xgboost in /usr/local/lib/python3.10/dist-packages (2.0.3)\n",
            "Requirement already satisfied: numpy in /usr/local/lib/python3.10/dist-packages (from xgboost) (1.25.2)\n",
            "Requirement already satisfied: scipy in /usr/local/lib/python3.10/dist-packages (from xgboost) (1.11.4)\n"
          ]
        }
      ]
    },
    {
      "cell_type": "code",
      "source": [
        "from xgboost import XGBRegressor\n",
        "from sklearn.model_selection import train_test_split\n",
        "from sklearn.metrics import mean_squared_error\n",
        "\n",
        "# Assuming X and y are already defined and preprocessed\n",
        "\n",
        "# Split the data into training and testing sets\n",
        "X_train, X_test, y_train, y_test = train_test_split(X, y, test_size=0.2, random_state=42)\n",
        "\n",
        "# Train the model\n",
        "model_xgb = XGBRegressor(objective ='reg:squarederror', seed=42)\n",
        "model_xgb.fit(X_train, y_train)\n",
        "\n",
        "# Evaluate the model\n",
        "predictions = model_xgb.predict(X_test)\n",
        "mse = mean_squared_error(y_test, predictions)\n",
        "print(\"Mean Squared Error:\", mse)\n"
      ],
      "metadata": {
        "colab": {
          "base_uri": "https://localhost:8080/"
        },
        "id": "WkKLdfFr4XnZ",
        "outputId": "c60469ad-b787-483a-8ca6-cfddd0f84b3d"
      },
      "execution_count": 22,
      "outputs": [
        {
          "output_type": "stream",
          "name": "stdout",
          "text": [
            "Mean Squared Error: 3.8210817964828268\n"
          ]
        }
      ]
    },
    {
      "cell_type": "code",
      "source": [
        "def predict_grade0(essay):\n",
        "    essay_vector = vectorizer.transform([essay])\n",
        "    grade = model.predict(essay_vector)[0]\n",
        "    print(\"Predicted Grade:\", grade)\n",
        ""
      ],
      "metadata": {
        "id": "U9mFcj0XPExC"
      },
      "execution_count": 13,
      "outputs": []
    },
    {
      "cell_type": "code",
      "source": [
        "from sklearn.feature_extraction.text import TfidfVectorizer\n",
        "from sklearn.ensemble import RandomForestRegressor\n",
        "from sklearn.model_selection import train_test_split\n",
        "from sklearn.metrics import mean_squared_error\n",
        "\n",
        "# Text vectorization with TF-IDF\n",
        "vectorizer = TfidfVectorizer()\n",
        "X = vectorizer.fit_transform(data['essay'])\n",
        "y = data['grade']\n",
        "\n",
        "# Split the data into training and testing sets\n",
        "X_train, X_test, y_train, y_test = train_test_split(X, y, test_size=0.2, random_state=42)\n",
        "\n",
        "# Train the Random Forest model\n",
        "model_rf = RandomForestRegressor(random_state=42)\n",
        "model_rf.fit(X_train, y_train)\n",
        "\n",
        "# Evaluate the model\n",
        "predictions = model_rf.predict(X_test)\n",
        "mse = mean_squared_error(y_test, predictions)\n",
        "print(\"Mean Squared Error:\", mse)\n"
      ],
      "metadata": {
        "colab": {
          "base_uri": "https://localhost:8080/"
        },
        "id": "3hRvndSn9eSH",
        "outputId": "0082cd51-a94d-4e60-d486-401570cb757a"
      },
      "execution_count": 23,
      "outputs": [
        {
          "output_type": "stream",
          "name": "stdout",
          "text": [
            "Mean Squared Error: 4.365799999999999\n"
          ]
        }
      ]
    },
    {
      "cell_type": "code",
      "source": [
        "def predict_grade1(essay):\n",
        "    essay_vector = vectorizer.transform([essay])\n",
        "    grade = model.predict(essay_vector)[0]\n",
        "    print(\"Predicted Grade:\", grade)\n",
        ""
      ],
      "metadata": {
        "id": "nNn8Ae-fPGAR"
      },
      "execution_count": 14,
      "outputs": []
    },
    {
      "cell_type": "code",
      "source": [
        "from sklearn.svm import SVR\n",
        "from sklearn.model_selection import train_test_split\n",
        "from sklearn.metrics import mean_squared_error\n",
        "from sklearn.preprocessing import MaxAbsScaler\n",
        "from sklearn.pipeline import make_pipeline\n",
        "\n",
        "# Split the data into training and testing sets\n",
        "X_train, X_test, y_train, y_test = train_test_split(X, y, test_size=0.2, random_state=42)\n",
        "\n",
        "# Train the model using a pipeline that scales data appropriately for sparse matrices\n",
        "model_svr = SVR(C=1.0, epsilon=0.1, kernel='rbf')\n",
        "model_svr.fit(X_train, y_train)\n",
        "\n",
        "# Evaluate the model\n",
        "predictions = model_svr.predict(X_test)\n",
        "mse = mean_squared_error(y_test, predictions)\n",
        "print(\"Mean Squared Error:\", mse)"
      ],
      "metadata": {
        "id": "ymwMN9HfIWBB",
        "colab": {
          "base_uri": "https://localhost:8080/"
        },
        "outputId": "391ad445-08e0-4eb3-b447-1d31b9a73e6d"
      },
      "execution_count": 24,
      "outputs": [
        {
          "output_type": "stream",
          "name": "stdout",
          "text": [
            "Mean Squared Error: 5.3056133563948675\n"
          ]
        }
      ]
    },
    {
      "cell_type": "code",
      "source": [
        "def predict_grade2(essay):\n",
        "    essay_vector = vectorizer.transform([essay])\n",
        "    grade = model.predict(essay_vector)[0]\n",
        "    print(\"Predicted Grade:\", grade)\n",
        ""
      ],
      "metadata": {
        "id": "_zGuDhfYwtBV"
      },
      "execution_count": 15,
      "outputs": []
    },
    {
      "cell_type": "code",
      "source": [
        "def main():\n",
        "    print(\"Welcome to the Essay Grading System!\")\n",
        "    while True:\n",
        "        essay = input(\"Enter your essay (or type 'exit' to quit): \")\n",
        "        if essay.lower() == 'exit':\n",
        "            break\n",
        "        else:\n",
        "            predicted_grade = predict_grade0(essay)\n",
        "            predicted_grade = predict_grade1(essay)\n",
        "            predicted_grade = predict_grade2(essay)\n",
        "\n",
        "\n",
        "main()"
      ],
      "metadata": {
        "id": "ZK9EqmvLwvIc",
        "colab": {
          "base_uri": "https://localhost:8080/"
        },
        "outputId": "8c6c62fe-b56b-441e-eded-0a359efb150c"
      },
      "execution_count": 16,
      "outputs": [
        {
          "name": "stdout",
          "output_type": "stream",
          "text": [
            "Welcome to the Essay Grading System!\n",
            "Enter your essay (or type 'exit' to quit): A short essay is any type of essay condensed to its most important elements. There is no universal answer to what a short essay length is, but teachers generally assign short essays in the 250- to 750-word range, and occasionally up to 1,000 words.  Just because the essays are short doesn’t mean the subjects must be simple. One of the greatest challenges of short essays is distilling complex topics into a few telling words. Some examples of short essay topics \n",
            "Predicted Grade: 7.240146187851917\n",
            "Predicted Grade: 7.240146187851917\n",
            "Predicted Grade: 7.240146187851917\n",
            "Enter your essay (or type 'exit' to quit): exit\n"
          ]
        }
      ]
    },
    {
      "cell_type": "code",
      "source": [
        "import pickle\n",
        "from sklearn.feature_extraction.text import TfidfVectorizer\n",
        "from sklearn.ensemble import RandomForestRegressor\n",
        "from sklearn.svm import SVR\n",
        "from xgboost import XGBRegressor\n",
        "from sklearn.model_selection import train_test_split\n",
        "\n",
        "\n",
        "with open(\"xgboost_model.pkl\", \"wb\") as f:\n",
        "    pickle.dump(model_xgb, f)\n",
        "\n",
        "\n",
        "with open(\"random_forest_model.pkl\", \"wb\") as f:\n",
        "    pickle.dump(model_rf, f)\n",
        "\n",
        "\n",
        "with open(\"svr_model.pkl\", \"wb\") as f:\n",
        "    pickle.dump(model_svr, f)\n",
        "\n",
        "# Save the TF-IDF vectorizer\n",
        "pickle.dump(vectorizer, open(\"vectorizer_filename.pkl\", \"wb\"))\n",
        "\n",
        "print(\"Models and vectorizer saved successfully.\")\n",
        "\n",
        "\n"
      ],
      "metadata": {
        "colab": {
          "base_uri": "https://localhost:8080/"
        },
        "id": "_Ri2gvLdQqk9",
        "outputId": "5975bcdf-9642-4609-be37-b7c6712a0907"
      },
      "execution_count": 25,
      "outputs": [
        {
          "output_type": "stream",
          "name": "stdout",
          "text": [
            "Models and vectorizer saved successfully.\n"
          ]
        }
      ]
    }
  ]
}